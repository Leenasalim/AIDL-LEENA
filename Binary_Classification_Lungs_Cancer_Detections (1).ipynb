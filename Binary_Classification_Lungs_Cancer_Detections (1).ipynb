{
 "cells": [
  {
   "cell_type": "code",
   "execution_count": 39,
   "metadata": {
    "colab": {
     "base_uri": "https://localhost:8080/"
    },
    "id": "jIj3dvXjypMl",
    "outputId": "bedddae8-6f62-43ba-939c-5759318a918b"
   },
   "outputs": [
    {
     "name": "stdout",
     "output_type": "stream",
     "text": [
      "Drive already mounted at /content/drive/; to attempt to forcibly remount, call drive.mount(\"/content/drive/\", force_remount=True).\n"
     ]
    }
   ],
   "source": [
    "from google.colab import drive\n",
    "drive.mount('/content/drive/')\n"
   ]
  },
  {
   "cell_type": "code",
   "execution_count": null,
   "metadata": {
    "colab": {
     "base_uri": "https://localhost:8080/"
    },
    "id": "yRcsknL0y0r5",
    "outputId": "8a414b84-7229-40be-d850-5a4f9d9b5f70"
   },
   "outputs": [
    {
     "name": "stdout",
     "output_type": "stream",
     "text": [
      "negative  positive\n"
     ]
    }
   ],
   "source": [
    "!ls /content/drive/MyDrive/dataset-lungs"
   ]
  },
  {
   "cell_type": "code",
   "execution_count": null,
   "metadata": {
    "id": "PxmnHs5Fu69c"
   },
   "outputs": [],
   "source": [
    "import os, shutil\n",
    "\n",
    "original_dataset_dir = '/content/drive/MyDrive/dataset-lungs'\n",
    "base_dir = '/content/drive/MyDrive/base_data'\n",
    "os.mkdir(base_dir)"
   ]
  },
  {
   "cell_type": "code",
   "execution_count": null,
   "metadata": {
    "colab": {
     "base_uri": "https://localhost:8080/",
     "height": 36
    },
    "id": "U35y0978x5Jm",
    "outputId": "27a9a838-5759-4ba6-bc17-fabb596d99b7"
   },
   "outputs": [
    {
     "data": {
      "application/vnd.google.colaboratory.intrinsic+json": {
       "type": "string"
      },
      "text/plain": [
       "'/content/drive/MyDrive/base_data'"
      ]
     },
     "execution_count": 17,
     "metadata": {},
     "output_type": "execute_result"
    }
   ],
   "source": [
    "base_dir"
   ]
  },
  {
   "cell_type": "code",
   "execution_count": null,
   "metadata": {
    "id": "k07GR3WU0IDz"
   },
   "outputs": [],
   "source": [
    "# Making Training and testing folders in data folder\n",
    "train_dir = os.path.join(base_dir, 'train')\n",
    "os.mkdir(train_dir)\n",
    "\n",
    "test_dir = os.path.join(base_dir, 'test')\n",
    "os.mkdir(test_dir)"
   ]
  },
  {
   "cell_type": "code",
   "execution_count": null,
   "metadata": {
    "id": "11LBhVC-0M_x"
   },
   "outputs": [],
   "source": [
    "# Making positive and negative folders in both train and test folders\n",
    "train_positive_dir = os.path.join(train_dir, 'positive')\n",
    "os.mkdir(train_positive_dir)\n",
    "\n",
    "train_negative_dir = os.path.join(train_dir, 'negative')\n",
    "os.mkdir(train_negative_dir)\n",
    "\n",
    "test_positive_dir = os.path.join(test_dir, 'positive')\n",
    "os.mkdir(test_positive_dir)\n",
    "\n",
    "test_negative_dir = os.path.join(test_dir, 'negative')\n",
    "os.mkdir(test_negative_dir)"
   ]
  },
  {
   "cell_type": "code",
   "execution_count": null,
   "metadata": {
    "id": "fS-o8yIu0QDA"
   },
   "outputs": [],
   "source": [
    "# Copying the first 176 pictures(75%) from postive folders and taking them to postive folder in training one.\n",
    "fnames = [f'positive{i}.jpeg' for i in range(1,176)]\n",
    "for fname in fnames:\n",
    "    src = os.path.join('/content/drive/MyDrive/dataset-lungs/positive', fname)\n",
    "    dst = os.path.join(train_positive_dir, fname)\n",
    "    shutil.copyfile(src, dst)\n",
    "\n"
   ]
  },
  {
   "cell_type": "code",
   "execution_count": null,
   "metadata": {
    "id": "JDORprEj0h1m"
   },
   "outputs": [],
   "source": [
    "# Copying the first 125 pictures(75%) from negative folders and taking them to negative folder in training one.\n",
    "fnames = [f'negative{i}.jpeg' for i in range(1,226)]\n",
    "for fname in fnames:\n",
    "    src = os.path.join('/content/drive/MyDrive/dataset-lungs/negative', fname)\n",
    "    dst = os.path.join(train_negative_dir, fname)\n",
    "    shutil.copyfile(src, dst)"
   ]
  },
  {
   "cell_type": "code",
   "execution_count": null,
   "metadata": {
    "id": "Ck08k7Ma00kU"
   },
   "outputs": [],
   "source": [
    "# Copying the last 59 pictures(25%) from positive folder and taking them to positive folder in testing one.\n",
    "fnames = [f'positive{i}.jpeg' for i in range(176,235)]\n",
    "for fname in fnames:\n",
    "    src = os.path.join('/content/drive/MyDrive/dataset-lungs/positive', fname)\n",
    "    dst = os.path.join(test_positive_dir, fname)\n",
    "    shutil.copyfile(src, dst)\n",
    "\n",
    "# Copying the last 75 negative (25%) from negative folder and taking them to negative folder in testing one.\n",
    "fnames = [f'negative{i}.jpeg' for i in range(226,301)]\n",
    "for fname in fnames:\n",
    "    src = os.path.join('/content/drive/MyDrive/dataset-lungs/negative', fname)\n",
    "    dst = os.path.join(test_negative_dir, fname)\n",
    "    shutil.copyfile(src, dst)"
   ]
  },
  {
   "cell_type": "code",
   "execution_count": null,
   "metadata": {
    "id": "EtBmb79q2Cld"
   },
   "outputs": [],
   "source": [
    "# Creating the model architecture\n",
    "from keras import layers\n",
    "from keras import models\n",
    "model = models.Sequential()\n",
    "model.add(layers.Conv2D(32, (3, 3), activation='relu',\n",
    "input_shape=(150, 150, 3)))\n",
    "model.add(layers.MaxPooling2D((2, 2)))\n",
    "\n",
    "model.add(layers.Conv2D(64, (3, 3), activation='relu'))\n",
    "model.add(layers.MaxPooling2D((2, 2)))\n",
    "\n",
    "model.add(layers.Conv2D(128, (3, 3), activation='relu'))\n",
    "model.add(layers.MaxPooling2D((2, 2)))\n",
    "\n",
    "model.add(layers.Conv2D(128, (3, 3), activation='relu'))\n",
    "model.add(layers.MaxPooling2D((2, 2)))\n",
    "\n",
    "model.add(layers.Flatten())\n",
    "model.add(layers.Dense(512, activation='relu'))\n",
    "model.add(layers.Dense(1, activation='sigmoid'))"
   ]
  },
  {
   "cell_type": "code",
   "execution_count": null,
   "metadata": {
    "id": "wYjhekIN2w0P"
   },
   "outputs": [],
   "source": [
    "# Model compilation\n",
    "from keras import optimizers\n",
    "model.compile(loss='binary_crossentropy',optimizer=optimizers.RMSprop(learning_rate=0.001),metrics=['acc'])"
   ]
  },
  {
   "cell_type": "code",
   "execution_count": null,
   "metadata": {
    "id": "T3ECgWaH2194"
   },
   "outputs": [],
   "source": [
    "# Rescaling\n",
    "from keras.preprocessing.image import ImageDataGenerator\n",
    "\n",
    "train_datagen = ImageDataGenerator(rescale=1./255)\n",
    "test_datagen = ImageDataGenerator(rescale=1./255)"
   ]
  },
  {
   "cell_type": "code",
   "execution_count": null,
   "metadata": {
    "colab": {
     "base_uri": "https://localhost:8080/"
    },
    "id": "OkzqhuMl24uk",
    "outputId": "591f587f-016d-48db-a20e-d0fd2b4902ca"
   },
   "outputs": [
    {
     "name": "stdout",
     "output_type": "stream",
     "text": [
      "Found 400 images belonging to 2 classes.\n",
      "Found 134 images belonging to 2 classes.\n"
     ]
    }
   ],
   "source": [
    "train_generator = train_datagen.flow_from_directory(\n",
    "                                                    train_dir,\n",
    "                                                    target_size=(150, 150),\n",
    "                                                    batch_size=20,\n",
    "                                                    class_mode='binary')\n",
    "\n",
    "test_generator = test_datagen.flow_from_directory(\n",
    "                                                  test_dir,\n",
    "                                                  target_size=(150, 150),\n",
    "                                                  batch_size=20,\n",
    "                                                  class_mode='binary')"
   ]
  },
  {
   "cell_type": "code",
   "execution_count": null,
   "metadata": {
    "colab": {
     "base_uri": "https://localhost:8080/"
    },
    "id": "hTpMdS672-gy",
    "outputId": "9cbaa844-a77a-4fe5-ac3e-5fdf97cb5429"
   },
   "outputs": [
    {
     "name": "stdout",
     "output_type": "stream",
     "text": [
      "Epoch 1/7\n",
      "20/20 [==============================] - 30s 1s/step - loss: 0.7116 - acc: 0.5575\n",
      "Epoch 2/7\n",
      "20/20 [==============================] - 24s 1s/step - loss: 0.6726 - acc: 0.5625\n",
      "Epoch 3/7\n",
      "20/20 [==============================] - 23s 1s/step - loss: 0.6548 - acc: 0.6775\n",
      "Epoch 4/7\n",
      "20/20 [==============================] - 24s 1s/step - loss: 0.6177 - acc: 0.7225\n",
      "Epoch 5/7\n",
      "20/20 [==============================] - 25s 1s/step - loss: 0.4358 - acc: 0.8175\n",
      "Epoch 6/7\n",
      "20/20 [==============================] - 22s 1s/step - loss: 0.4987 - acc: 0.8450\n",
      "Epoch 7/7\n",
      "20/20 [==============================] - 24s 1s/step - loss: 0.3100 - acc: 0.8825\n"
     ]
    }
   ],
   "source": [
    "history = model.fit(train_generator, epochs=7,)"
   ]
  },
  {
   "cell_type": "code",
   "execution_count": null,
   "metadata": {
    "colab": {
     "base_uri": "https://localhost:8080/"
    },
    "id": "aIpLw6BN3CD2",
    "outputId": "3209f862-c236-41ec-fd9c-0348e6e0a676"
   },
   "outputs": [
    {
     "name": "stdout",
     "output_type": "stream",
     "text": [
      "7/7 [==============================] - 4s 522ms/step\n"
     ]
    }
   ],
   "source": [
    "# Test data prediction\n",
    "y_pred = model.predict(test_generator)"
   ]
  },
  {
   "cell_type": "code",
   "execution_count": null,
   "metadata": {
    "colab": {
     "base_uri": "https://localhost:8080/"
    },
    "id": "f-WFtsYB4Kh3",
    "outputId": "bac0e7d7-74dc-4307-ee23-1d6bdad732e2"
   },
   "outputs": [
    {
     "data": {
      "text/plain": [
       "array([[4.88578109e-03],\n",
       "       [1.56143727e-02],\n",
       "       [6.89317510e-02],\n",
       "       [9.50932384e-01],\n",
       "       [1.54834576e-02],\n",
       "       [5.87125897e-01],\n",
       "       [8.87565315e-01],\n",
       "       [9.31798756e-01],\n",
       "       [6.70555174e-01],\n",
       "       [7.85568416e-01],\n",
       "       [1.59091741e-01],\n",
       "       [9.60623443e-01],\n",
       "       [9.67959642e-01],\n",
       "       [3.12774931e-03],\n",
       "       [8.83174777e-01],\n",
       "       [8.64537776e-01],\n",
       "       [2.29178503e-01],\n",
       "       [4.36198041e-02],\n",
       "       [1.50682449e-01],\n",
       "       [1.15203775e-01],\n",
       "       [1.55745149e-01],\n",
       "       [8.24263990e-01],\n",
       "       [9.00090098e-01],\n",
       "       [9.82533872e-01],\n",
       "       [2.90836692e-01],\n",
       "       [8.51593256e-01],\n",
       "       [4.99518923e-02],\n",
       "       [8.89403895e-02],\n",
       "       [9.99870062e-01],\n",
       "       [1.01084635e-01],\n",
       "       [5.17090857e-01],\n",
       "       [1.62338130e-02],\n",
       "       [2.68733762e-02],\n",
       "       [8.67514238e-02],\n",
       "       [4.93566364e-01],\n",
       "       [7.34169483e-01],\n",
       "       [9.65163529e-01],\n",
       "       [2.04824194e-01],\n",
       "       [7.16701299e-02],\n",
       "       [7.95788765e-01],\n",
       "       [7.63589859e-01],\n",
       "       [2.33530179e-01],\n",
       "       [2.12478880e-02],\n",
       "       [1.14402408e-02],\n",
       "       [1.42768160e-01],\n",
       "       [9.61144388e-01],\n",
       "       [7.41596892e-03],\n",
       "       [9.96044636e-01],\n",
       "       [9.99147475e-01],\n",
       "       [1.19969919e-02],\n",
       "       [7.08212554e-01],\n",
       "       [9.43502367e-01],\n",
       "       [8.87640357e-01],\n",
       "       [8.76868665e-01],\n",
       "       [1.65004656e-02],\n",
       "       [7.17008770e-01],\n",
       "       [6.17576344e-03],\n",
       "       [9.15463984e-01],\n",
       "       [3.34899686e-03],\n",
       "       [6.19439185e-01],\n",
       "       [5.41200221e-01],\n",
       "       [1.46996647e-01],\n",
       "       [5.53636588e-02],\n",
       "       [6.89086616e-01],\n",
       "       [4.04535323e-01],\n",
       "       [9.83918905e-01],\n",
       "       [9.69775081e-01],\n",
       "       [9.77238178e-01],\n",
       "       [1.41755249e-02],\n",
       "       [6.98278770e-02],\n",
       "       [9.10788238e-01],\n",
       "       [2.68192232e-01],\n",
       "       [8.12615734e-03],\n",
       "       [2.29891062e-01],\n",
       "       [1.07230790e-01],\n",
       "       [4.43432480e-02],\n",
       "       [9.14316237e-01],\n",
       "       [7.35498557e-04],\n",
       "       [1.66549876e-01],\n",
       "       [9.46985602e-01],\n",
       "       [9.73016560e-01],\n",
       "       [9.73319173e-01],\n",
       "       [9.58254755e-01],\n",
       "       [9.90607515e-02],\n",
       "       [8.60805690e-01],\n",
       "       [3.04465648e-03],\n",
       "       [8.40500928e-03],\n",
       "       [1.83303806e-03],\n",
       "       [8.43616188e-01],\n",
       "       [6.82644665e-01],\n",
       "       [9.17653859e-01],\n",
       "       [9.71499085e-01],\n",
       "       [3.42466938e-03],\n",
       "       [5.24135754e-02],\n",
       "       [3.89343351e-02],\n",
       "       [9.44130301e-01],\n",
       "       [9.88904059e-01],\n",
       "       [8.12127348e-03],\n",
       "       [9.72490788e-01],\n",
       "       [8.04291606e-01],\n",
       "       [6.65389895e-01],\n",
       "       [8.98199737e-01],\n",
       "       [9.77148414e-01],\n",
       "       [2.26553276e-01],\n",
       "       [8.36456239e-01],\n",
       "       [9.84883010e-01],\n",
       "       [3.49035561e-02],\n",
       "       [5.79833686e-01],\n",
       "       [7.98419237e-01],\n",
       "       [1.23614576e-02],\n",
       "       [7.99598932e-01],\n",
       "       [9.75232303e-01],\n",
       "       [9.62435663e-01],\n",
       "       [3.81701142e-02],\n",
       "       [3.00431121e-02],\n",
       "       [5.28874695e-01],\n",
       "       [9.30512428e-01],\n",
       "       [6.96342945e-01],\n",
       "       [1.50447085e-01],\n",
       "       [9.39132422e-02],\n",
       "       [1.28873046e-02],\n",
       "       [1.83751564e-02],\n",
       "       [2.92644054e-02],\n",
       "       [9.85235691e-01],\n",
       "       [1.88705679e-02],\n",
       "       [1.35763437e-02],\n",
       "       [9.11672950e-01],\n",
       "       [7.74153247e-02],\n",
       "       [4.15669344e-02],\n",
       "       [9.59756851e-01],\n",
       "       [5.46756446e-01],\n",
       "       [8.42633367e-01],\n",
       "       [8.42136443e-01],\n",
       "       [9.44871783e-01]], dtype=float32)"
      ]
     },
     "execution_count": 32,
     "metadata": {},
     "output_type": "execute_result"
    }
   ],
   "source": [
    "y_pred"
   ]
  },
  {
   "cell_type": "code",
   "execution_count": null,
   "metadata": {
    "id": "Cxz8-8Av4XHW"
   },
   "outputs": [],
   "source": [
    "import numpy as np\n",
    "y_pred = np.argmax(y_pred, axis=1)"
   ]
  },
  {
   "cell_type": "code",
   "execution_count": null,
   "metadata": {
    "colab": {
     "base_uri": "https://localhost:8080/"
    },
    "id": "tPqPAGYW4boW",
    "outputId": "a8d91cdc-aaa5-4b4b-8d5f-4f96a4b28d62"
   },
   "outputs": [
    {
     "data": {
      "text/plain": [
       "array([0, 0, 0, 0, 0, 0, 0, 0, 0, 0, 0, 0, 0, 0, 0, 0, 0, 0, 0, 0, 0, 0,\n",
       "       0, 0, 0, 0, 0, 0, 0, 0, 0, 0, 0, 0, 0, 0, 0, 0, 0, 0, 0, 0, 0, 0,\n",
       "       0, 0, 0, 0, 0, 0, 0, 0, 0, 0, 0, 0, 0, 0, 0, 0, 0, 0, 0, 0, 0, 0,\n",
       "       0, 0, 0, 0, 0, 0, 0, 0, 0, 0, 0, 0, 0, 0, 0, 0, 0, 0, 0, 0, 0, 0,\n",
       "       0, 0, 0, 0, 0, 0, 0, 0, 0, 0, 0, 0, 0, 0, 0, 0, 0, 0, 0, 0, 0, 0,\n",
       "       0, 0, 0, 0, 0, 0, 0, 0, 0, 0, 0, 0, 0, 0, 0, 0, 0, 0, 0, 0, 0, 0,\n",
       "       0, 0])"
      ]
     },
     "execution_count": 34,
     "metadata": {},
     "output_type": "execute_result"
    }
   ],
   "source": [
    "y_pred"
   ]
  },
  {
   "cell_type": "code",
   "execution_count": null,
   "metadata": {
    "id": "YD-pC4HR4fDY"
   },
   "outputs": [],
   "source": [
    "# Confusion matrix and classificatino report\n",
    "from sklearn.metrics import classification_report, confusion_matrix"
   ]
  },
  {
   "cell_type": "code",
   "execution_count": null,
   "metadata": {
    "id": "kM-UeROM4qAD"
   },
   "outputs": [],
   "source": [
    "cf = confusion_matrix(test_generator.classes, y_pred)"
   ]
  },
  {
   "cell_type": "code",
   "execution_count": null,
   "metadata": {
    "colab": {
     "base_uri": "https://localhost:8080/"
    },
    "id": "Bsl47h1g4tUk",
    "outputId": "91a82514-4c51-493e-e1b6-36e9c1a068d7"
   },
   "outputs": [
    {
     "data": {
      "text/plain": [
       "array([[75,  0],\n",
       "       [59,  0]])"
      ]
     },
     "execution_count": 37,
     "metadata": {},
     "output_type": "execute_result"
    }
   ],
   "source": [
    "cf"
   ]
  },
  {
   "cell_type": "code",
   "execution_count": null,
   "metadata": {
    "colab": {
     "base_uri": "https://localhost:8080/",
     "height": 448
    },
    "id": "gQS4s6aZ4u3p",
    "outputId": "1bdc62ee-22f7-4e6e-ec98-5c7072a4c85d"
   },
   "outputs": [
    {
     "data": {
      "text/plain": [
       "<Axes: >"
      ]
     },
     "execution_count": 38,
     "metadata": {},
     "output_type": "execute_result"
    },
    {
     "data": {
      "image/png": "[encoded data removed]",
      "text/plain": [
       "<Figure size 640x480 with 2 Axes>"
      ]
     },
     "metadata": {},
     "output_type": "display_data"
    }
   ],
   "source": [
    "import seaborn as sns\n",
    "sns.heatmap(cf, fmt ='g', annot= True)"
   ]
  },
  {
   "cell_type": "code",
   "execution_count": null,
   "metadata": {
    "id": "nxT4Kr2Y4yNR"
   },
   "outputs": [],
   "source": []
  }
 ],
 "metadata": {
  "colab": {
   "provenance": []
  },
  "kernelspec": {
   "display_name": "Python 3 (ipykernel)",
   "language": "python",
   "name": "python3"
  },
  "language_info": {
   "codemirror_mode": {
    "name": "ipython",
    "version": 3
   },
   "file_extension": ".py",
   "mimetype": "text/x-python",
   "name": "python",
   "nbconvert_exporter": "python",
   "pygments_lexer": "ipython3",
   "version": "3.12.0"
  }
 },
 "nbformat": 4,
 "nbformat_minor": 4
}
